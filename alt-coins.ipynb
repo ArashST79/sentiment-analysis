{
 "cells": [
  {
   "cell_type": "code",
   "execution_count": 12,
   "metadata": {},
   "outputs": [
    {
     "name": "stdout",
     "output_type": "stream",
     "text": [
      "Name: Bitcoin, Symbol: BTC\n",
      "Name: Ethereum, Symbol: ETH\n",
      "Name: Tether USD, Symbol: USDT\n",
      "Name: BNB, Symbol: BNB\n",
      "Name: XRP, Symbol: XRP\n",
      "Name: USDC, Symbol: USDC\n",
      "Name: Solana, Symbol: SOL\n",
      "Name: Cardano, Symbol: ADA\n",
      "Name: Dogecoin, Symbol: DOGE\n",
      "Name: TRON, Symbol: TRX\n",
      "Name: Wrapped liquid staked Ether 2.0, Symbol: wstETH\n",
      "Name: Wrapped Ether, Symbol: WETH\n",
      "Name: Chainlink, Symbol: LINK\n",
      "Name: Polygon, Symbol: MATIC\n",
      "Name: Wrapped BTC, Symbol: WBTC\n",
      "Name: Polkadot, Symbol: DOT\n",
      "Name: Litecoin, Symbol: LTC\n",
      "Name: Shiba Inu, Symbol: SHIB\n",
      "Name: Bitcoin Cash, Symbol: BCH\n",
      "Name: Avalanche, Symbol: AVAX\n",
      "Name: Dai, Symbol: DAI\n",
      "Name: Uniswap, Symbol: UNI\n",
      "Name: Toncoin, Symbol: TON\n",
      "Name: Monero, Symbol: XMR\n",
      "Name: Cosmos, Symbol: ATOM\n",
      "Name: Ethereum Classic, Symbol: ETC\n",
      "Name: Stellar, Symbol: XLM\n",
      "Name: Binance USD, Symbol: BUSD\n",
      "Name: PancakeSwap, Symbol: CAKE\n",
      "Name: Hedera, Symbol: HBAR\n",
      "Name: Internet Computer (DFINITY), Symbol: ICP\n",
      "Name: Filecoin, Symbol: FIL\n",
      "Name: Lido DAO Token, Symbol: LDO\n",
      "Name: Maker, Symbol: MKR\n",
      "Name: Render Token, Symbol: RNDR\n",
      "Name: Immutable X, Symbol: IMX\n",
      "Name: VeChain, Symbol: VET\n",
      "Name: Trust Wallet Token, Symbol: TWT\n",
      "Name: Aave, Symbol: AAVE\n",
      "Name: Huobi Token, Symbol: HT\n",
      "Name: ARBITRUM, Symbol: ARB\n",
      "Name: MX Token, Symbol: MX\n",
      "Name: Injective Protocol, Symbol: INJ\n",
      "Name: Kaspa, Symbol: KAS\n",
      "Name: Frax Share, Symbol: FXS\n",
      "Name: WEMIX Token, Symbol: WEMIX\n",
      "Name: Rocket Pool ETH, Symbol: RETH\n",
      "Name: Quant, Symbol: QNT\n",
      "Name: Baby Doge Coin, Symbol: BABYDOGE\n",
      "Name: Pax Dollar, Symbol: USDP\n",
      "50\n"
     ]
    }
   ],
   "source": [
    "import requests\n",
    "\n",
    "url = 'https://api.coinranking.com/v2/coins'\n",
    "\n",
    "headers = {\n",
    "    'x-access-token': 'coinranking50375163ff48a0952b9f613314ed89000601da69a723cc83'  \n",
    "}\n",
    "\n",
    "params = {'tiers': ['1']} \n",
    "\n",
    "response = requests.get(url, headers=headers, params=params)\n",
    "if response.status_code == 200:\n",
    "    data = response.json()\n",
    "    coins_list = data['data']['coins']\n",
    "else:\n",
    "    print(f\"Request failed with status code: {response.status_code}\")\n",
    "\n",
    "for coin in coins_list:\n",
    "    print(f\"Name: {coin['name']}, Symbol: {coin['symbol']}\")\n",
    "\n",
    "print(len(coins_list))"
   ]
  }
 ],
 "metadata": {
  "kernelspec": {
   "display_name": "Python 3",
   "language": "python",
   "name": "python3"
  },
  "language_info": {
   "codemirror_mode": {
    "name": "ipython",
    "version": 3
   },
   "file_extension": ".py",
   "mimetype": "text/x-python",
   "name": "python",
   "nbconvert_exporter": "python",
   "pygments_lexer": "ipython3",
   "version": "3.9.6"
  },
  "orig_nbformat": 4
 },
 "nbformat": 4,
 "nbformat_minor": 2
}
