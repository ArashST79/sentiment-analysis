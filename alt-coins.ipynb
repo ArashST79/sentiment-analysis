{
 "cells": [
  {
   "cell_type": "code",
   "execution_count": 13,
   "metadata": {},
   "outputs": [
    {
     "name": "stdout",
     "output_type": "stream",
     "text": [
      "Name: Bitcoin, Symbol: BTC\n",
      "Name: Ethereum, Symbol: ETH\n",
      "Name: Tether USD, Symbol: USDT\n",
      "Name: BNB, Symbol: BNB\n",
      "Name: XRP, Symbol: XRP\n",
      "Name: USDC, Symbol: USDC\n",
      "Name: Solana, Symbol: SOL\n",
      "Name: Cardano, Symbol: ADA\n",
      "Name: Dogecoin, Symbol: DOGE\n",
      "Name: TRON, Symbol: TRX\n"
     ]
    }
   ],
   "source": [
    "import requests\n",
    "\n",
    "def get_top_coins(num):\n",
    "    url = 'https://api.coinranking.com/v2/coins'\n",
    "\n",
    "    headers = {\n",
    "        'x-access-token': 'coinranking50375163ff48a0952b9f613314ed89000601da69a723cc83'\n",
    "    }\n",
    "\n",
    "    params = {'tiers': ['1']}\n",
    "\n",
    "    response = requests.get(url, headers=headers, params=params)\n",
    "\n",
    "    if response.status_code == 200:\n",
    "        data = response.json()\n",
    "        coins_list = data['data']['coins'][:num]  \n",
    "        return coins_list\n",
    "    else:\n",
    "        print(f\"Request failed with status code: {response.status_code}\")\n",
    "        return []\n",
    "\n",
    "\n",
    "num_of_coins = 10  \n",
    "top_coins = get_top_coins(num_of_coins)\n",
    "\n",
    "for coin in top_coins:\n",
    "    print(f\"Name: {coin['name']}, Symbol: {coin['symbol']}\")\n"
   ]
  }
 ],
 "metadata": {
  "kernelspec": {
   "display_name": "Python 3",
   "language": "python",
   "name": "python3"
  },
  "language_info": {
   "codemirror_mode": {
    "name": "ipython",
    "version": 3
   },
   "file_extension": ".py",
   "mimetype": "text/x-python",
   "name": "python",
   "nbconvert_exporter": "python",
   "pygments_lexer": "ipython3",
   "version": "3.9.6"
  },
  "orig_nbformat": 4
 },
 "nbformat": 4,
 "nbformat_minor": 2
}
